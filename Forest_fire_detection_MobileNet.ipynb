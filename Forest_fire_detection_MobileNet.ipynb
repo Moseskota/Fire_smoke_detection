{
  "cells": [
    {
      "cell_type": "code",
      "execution_count": null,
      "metadata": {
        "id": "B74yeHPBJr-V"
      },
      "outputs": [],
      "source": [
        "import torch\n",
        "import torch.nn as nn\n",
        "from torchvision import datasets, transforms, models\n",
        "import torch.optim as optim\n",
        "from torch.utils.data import DataLoader\n",
        "import numpy as np\n",
        "import matplotlib.pyplot as plt\n",
        "from PIL import Image, ImageFile\n",
        "\n",
        "\n",
        "from sklearn.metrics import confusion_matrix\n",
        "import seaborn as sns\n",
        "\n",
        "\n",
        "import os\n",
        "from pathlib import Path"
      ]
    },
    {
      "cell_type": "code",
      "execution_count": null,
      "metadata": {
        "id": "K3AUvNdOSIsu"
      },
      "outputs": [],
      "source": [
        "device = 'cuda' if torch.cuda.is_available()  else 'cpu'\n",
        "device"
      ]
    },
    {
      "cell_type": "code",
      "execution_count": null,
      "metadata": {
        "id": "wtAVjk8LQM43"
      },
      "outputs": [],
      "source": [
        "try:\n",
        "    from torchinfo import summary\n",
        "except:\n",
        "    print(\"[INFO] Couldn't find torchinfo... installing it.\")\n",
        "    !pip install -q torchinfo\n",
        "    from torchinfo import summary"
      ]
    },
    {
      "cell_type": "code",
      "execution_count": null,
      "metadata": {
        "id": "fzcejxIFJvbB"
      },
      "outputs": [],
      "source": [
        "from google.colab import drive\n",
        "drive.mount('/content/drive')\n"
      ]
    },
    {
      "cell_type": "code",
      "execution_count": null,
      "metadata": {
        "id": "T3AscSFqLEQT",
        "collapsed": true
      },
      "outputs": [],
      "source": [
        "!pwd"
      ]
    },
    {
      "cell_type": "code",
      "execution_count": null,
      "metadata": {
        "id": "gCFHbJRJLe4A",
        "collapsed": true
      },
      "outputs": [],
      "source": [
        "!ls"
      ]
    },
    {
      "cell_type": "code",
      "execution_count": null,
      "metadata": {
        "id": "kLmuv57eLsgo"
      },
      "outputs": [],
      "source": [
        "\n",
        "# Path to the zip file in your Google Drive\n",
        "zip_file_path = '/content/drive/My Drive/FOREST_FIRE_SMOKE_AND_NON_FIRE_DATASET.zip'\n",
        "\n",
        "\n",
        "extracted_folder_path = '/content/fire_smoke_dataset'\n",
        "\n",
        "# Create directory if it doesn't exist\n",
        "os.makedirs(extracted_folder_path, exist_ok=True)\n",
        "\n",
        "# Extract the zip file\n",
        "import zipfile\n",
        "with zipfile.ZipFile(zip_file_path, 'r') as zip_ref:\n",
        "    zip_ref.extractall(extracted_folder_path)"
      ]
    },
    {
      "cell_type": "code",
      "execution_count": null,
      "metadata": {
        "id": "4sFP_ryLOc9r",
        "collapsed": true
      },
      "outputs": [],
      "source": [
        "import os\n",
        "def walk_through_dir(dir_path):\n",
        "  \"\"\"\n",
        "  Walks through dir_path returning its contents.\n",
        "  Args:\n",
        "    dir_path (str or pathlib.Path): target directory\n",
        "\n",
        "  Returns:\n",
        "    A print out of:\n",
        "      number of subdirectories in dir_path\n",
        "      number of images (files) in each subdirectory\n",
        "      name of each subdirectory\n",
        "  \"\"\"\n",
        "  for dirpath, dirnames, filenames in os.walk(dir_path):\n",
        "    print(f\"There are {len(dirnames)} directories and {len(filenames)} images in '{dirpath}'.\")\n",
        "\n",
        "walk_through_dir(extracted_folder_path)"
      ]
    },
    {
      "cell_type": "code",
      "execution_count": null,
      "metadata": {
        "id": "nS0jpdeIPDx8",
        "collapsed": true
      },
      "outputs": [],
      "source": [
        "import random\n",
        "from PIL import Image\n",
        "\n",
        "# Set seed\n",
        "random.seed(42) # <- try changing this and see what happens\n",
        "\n",
        "# 1. Get the image path list\n",
        "image_path_list = []\n",
        "for root, dirs, files in os.walk(extracted_folder_path):\n",
        "    for file in files:\n",
        "        if file.endswith(\".jpg\"):\n",
        "            image_path_list.append(os.path.join(root, file))\n",
        "\n",
        "\n",
        "# 2. Get random image path\n",
        "random_image_path = random.choice(image_path_list)\n",
        "\n",
        "# 3. Get image class from path name (the image class is the name of the directory where the image is stored)\n",
        "image_class = os.path.basename(os.path.dirname(random_image_path))\n",
        "\n",
        "# 4. Open image\n",
        "img = Image.open(random_image_path)\n",
        "\n",
        "# 5. Print metadata\n",
        "print(f\"Random image path: {random_image_path}\")\n",
        "print(f\"Image class: {image_class}\")\n",
        "print(f\"Image height: {img.height}\")\n",
        "print(f\"Image width: {img.width}\")\n",
        "img"
      ]
    },
    {
      "cell_type": "code",
      "execution_count": null,
      "metadata": {
        "id": "WPadLJIAQcx4"
      },
      "outputs": [],
      "source": [
        "train_dir = '/content/drive/My Drive/fire_smoke_dataset/train'\n",
        "test_dir = '/content/drive/My Drive/fire_smoke_dataset/test'\n",
        "\n",
        "\n",
        "train_dir, test_dir"
      ]
    },
    {
      "cell_type": "code",
      "execution_count": null,
      "metadata": {
        "id": "Df3STXGyOS8m"
      },
      "outputs": [],
      "source": [
        "transforms = transforms.Compose([\n",
        "    transforms.RandomResizedCrop(224), # Randomly crop the image to 224x224\n",
        "    transforms.RandomHorizontalFlip(), # Randomly flip the image horizontally\n",
        "    transforms.RandomRotation(15), # Randomly rotate the image by up to 15 degrees\n",
        "    transforms.ColorJitter(brightness=0.2, contrast=0.2, saturation=0.2, hue=0.1), # Randomly change the brightness, contrast, saturation, and hue\n",
        "    transforms.RandomVerticalFlip(p=0.1), # Randomly flip the image vertically with a probability of 0.1\n",
        "    transforms.ToTensor(), # Turn image values to between 0 & 1\n",
        "    transforms.Normalize(mean=[0.485, 0.456, 0.406], # A mean of [0.485, 0.456, 0.406] (across each colour channel)\n",
        "                         std=[0.229, 0.224, 0.225]) # A standard deviation of [0.229, 0.224, 0.225] (across each colour channel)\n",
        "])"
      ]
    },
    {
      "cell_type": "code",
      "execution_count": null,
      "metadata": {
        "id": "ra9z3aZhOTn8",
        "collapsed": true
      },
      "outputs": [],
      "source": [
        "# Use ImageFolder to create dataset(s)\n",
        "train_data = datasets.ImageFolder(root='/content/fire_smoke_dataset/train', # target folder of images\n",
        "                                  transform=transforms, # transforms to perform on data (images)\n",
        "                                  target_transform=None) # transforms to perform on labels (if necessary)\n",
        "\n",
        "test_data = datasets.ImageFolder(root='/content/fire_smoke_dataset/test',\n",
        "                                 transform=transforms)\n",
        "\n",
        "print(f\"Train data:\\n{train_data}\\nTest data:\\n{test_data}\")"
      ]
    },
    {
      "cell_type": "code",
      "execution_count": null,
      "metadata": {
        "colab": {
          "base_uri": "https://localhost:8080/"
        },
        "id": "P6w29AQzR6ZJ",
        "outputId": "ccc06b0d-2c17-4e14-d1c2-bc6443840506"
      },
      "outputs": [
        {
          "output_type": "execute_result",
          "data": {
            "text/plain": [
              "['Smoke', 'fire', 'non fire']"
            ]
          },
          "metadata": {},
          "execution_count": 46
        }
      ],
      "source": [
        "class_names = train_data.classes\n",
        "class_names"
      ]
    },
    {
      "cell_type": "code",
      "execution_count": null,
      "metadata": {
        "colab": {
          "base_uri": "https://localhost:8080/"
        },
        "id": "T0CkM9B6ToHc",
        "outputId": "64dbe568-773b-4b11-f29a-caf2e8a22ba3"
      },
      "outputs": [
        {
          "output_type": "stream",
          "name": "stdout",
          "text": [
            "torch.Size([32, 3, 224, 224])\n",
            "tensor([2, 0, 0, 1, 1, 1, 1, 0, 0, 2, 0, 2, 0, 0, 0, 1, 1, 0, 2, 1, 2, 0, 0, 0,\n",
            "        0, 0, 2, 0, 1, 0, 2, 2])\n"
          ]
        }
      ],
      "source": [
        "image, label = next(iter(train_dataloader))\n",
        "print(image.shape)\n",
        "print(label)"
      ]
    },
    {
      "cell_type": "code",
      "execution_count": null,
      "metadata": {
        "id": "bhRcCjxlSydV",
        "collapsed": true
      },
      "outputs": [],
      "source": [
        "mobilenet_V2 = models.mobilenet_v2(pretrained=True)\n",
        "num_features = mobilenet_V2.classifier[1].in_features\n",
        "\n",
        "\n",
        "for param in mobilenet_V2.parameters():\n",
        "    param.requires_grad = False\n",
        "\n",
        "num_classes = len(train_data.classes)\n",
        "# Modify classifier to match number of classes\n",
        "mobilenet_V2.classifier[1] = nn.Linear(num_features,num_classes )\n",
        "\n",
        "for param in mobilenet_V2.classifier.parameters():\n",
        "    param.requires_grad = True\n",
        "\n",
        "# Move the model to GPU if available\n",
        "device = torch.device(\"cuda\" if torch.cuda.is_available() else \"cpu\")\n",
        "mobilenet_V2.to(device)"
      ]
    },
    {
      "cell_type": "code",
      "execution_count": null,
      "metadata": {
        "id": "QmxzyCCNS4r7"
      },
      "outputs": [],
      "source": [
        "criterion = nn.CrossEntropyLoss()\n",
        "optimizer = optim.Adam(mobilenet_V2.parameters(), lr=0.001)"
      ]
    },
    {
      "cell_type": "code",
      "execution_count": null,
      "metadata": {
        "id": "cmIRecBKT7Mj"
      },
      "outputs": [],
      "source": [
        "def save_model(model, filepath):\n",
        "    torch.save(model.state_dict(), filepath)\n",
        "    print(f\"Model saved to {filepath}\")"
      ]
    },
    {
      "cell_type": "code",
      "source": [
        "print(os.cpu_count())"
      ],
      "metadata": {
        "id": "BKsz4qdo8E1p",
        "collapsed": true
      },
      "execution_count": null,
      "outputs": []
    },
    {
      "cell_type": "code",
      "execution_count": null,
      "metadata": {
        "id": "zwyALPyZR6cI",
        "collapsed": true
      },
      "outputs": [],
      "source": [
        "num_workers = os.cpu_count()\n",
        "batch_size = 32\n",
        "time_out = 60\n",
        "train_dataloader = DataLoader(dataset=train_data,\n",
        "                              batch_size=batch_size, # how many samples per batch?\n",
        "                              num_workers=num_workers,\n",
        "                              persistent_workers=True,\n",
        "                              timeout = time_out,# how many subprocesses to use for data loading? (higher = more)\n",
        "                              shuffle=True) # shuffle the data?\n",
        "\n",
        "test_dataloader = DataLoader(dataset=test_data,\n",
        "                             batch_size=batch_size,\n",
        "                             num_workers=num_workers,\n",
        "                             shuffle=False) # don't usually need to shuffle testing data\n",
        "\n",
        "train_dataloader, test_dataloader"
      ]
    },
    {
      "cell_type": "code",
      "source": [
        "def train_model(model, train_dataloader, criterion, optimizer, device, num_epochs=50, epochs_per_iteration=10):\n",
        "    model.train()\n",
        "    total_loss = 0.0\n",
        "    total_correct_predictions = 0\n",
        "    total_predictions = 0\n",
        "\n",
        "    for iteration in range(num_epochs // epochs_per_iteration):\n",
        "        print(f\"Iteration {iteration + 1}/{num_epochs // epochs_per_iteration}:\")\n",
        "        running_loss = 0.0\n",
        "        correct_predictions = 0\n",
        "        total_predictions = 0\n",
        "\n",
        "        for epoch in range(epochs_per_iteration):\n",
        "            for batch_idx, (data, target) in enumerate(train_dataloader):\n",
        "                data, target = data.to(device), target.to(device)  # Transfer data to device\n",
        "\n",
        "                optimizer.zero_grad()\n",
        "                outputs = model(data)\n",
        "                loss = criterion(outputs, target)\n",
        "                loss.backward()\n",
        "                optimizer.step()\n",
        "\n",
        "                # Accumulate loss and calculate accuracy\n",
        "                running_loss += loss.item()\n",
        "                _, predicted = torch.max(outputs, 1)\n",
        "                total_predictions += target.size(0)\n",
        "                correct_predictions += (predicted == target).sum().item()\n",
        "\n",
        "            # Print epoch statistics\n",
        "            epoch_loss = running_loss / len(train_dataloader)\n",
        "            epoch_accuracy = correct_predictions / total_predictions * 100\n",
        "            print(f\"Epoch [{(iteration * epochs_per_iteration) + epoch + 1}/{num_epochs}], Loss: {epoch_loss:.4f}, Accuracy: {epoch_accuracy:.2f}%\")\n",
        "\n",
        "        # Accumulate statistics for the iteration\n",
        "        total_loss += running_loss\n",
        "        total_correct_predictions += correct_predictions\n",
        "\n",
        "    # Calculate overall statistics\n",
        "    overall_loss = total_loss / (len(train_dataloader) * (num_epochs // epochs_per_iteration))\n",
        "    overall_accuracy = total_correct_predictions / (total_predictions * (num_epochs // epochs_per_iteration)) * 100\n",
        "\n",
        "    print(f'Finished Training\\nOverall Loss: {overall_loss:.4f}, Overall Accuracy: {overall_accuracy:.2f}%')\n"
      ],
      "metadata": {
        "id": "Vn42XKLxMDPO"
      },
      "execution_count": null,
      "outputs": []
    },
    {
      "cell_type": "code",
      "execution_count": null,
      "metadata": {
        "id": "NYfRxpTzVSYX",
        "collapsed": true
      },
      "outputs": [],
      "source": [
        "import time\n",
        "t0 = time.time()\n",
        "train_model(mobilenet_V2, train_dataloader, criterion, optimizer, device)\n",
        "t_final = time.time()\n",
        "print(f\" Time taken {t_final - t0}\")"
      ]
    },
    {
      "cell_type": "code",
      "source": [
        "save_model(mobilenet_V2, '/content/drive/MyDrive/model_checkpoint.pth')\n"
      ],
      "metadata": {
        "colab": {
          "base_uri": "https://localhost:8080/"
        },
        "id": "EGzbmgsjkifh",
        "outputId": "91bd317a-aaeb-4aac-ebba-3752e1cd3fbc"
      },
      "execution_count": null,
      "outputs": [
        {
          "output_type": "stream",
          "name": "stdout",
          "text": [
            "Model saved to /content/drive/MyDrive/model_checkpoint.pth\n"
          ]
        }
      ]
    },
    {
      "cell_type": "code",
      "source": [
        "def evaluation(model, test_dataloader, criterion, device):\n",
        "    model.eval()\n",
        "    test_loss = 0.0\n",
        "    correct = 0\n",
        "    test_preds = []  # List to store predictions\n",
        "    test_labels = []  # List to store true labels\n",
        "\n",
        "    with torch.no_grad():\n",
        "        for images, labels in test_dataloader:\n",
        "            images, labels = images.to(device), labels.to(device)\n",
        "            outputs = model(images)\n",
        "            loss = criterion(outputs, labels)\n",
        "            test_loss += loss.item()\n",
        "            _, predicted = torch.max(outputs, 1)\n",
        "            correct += (predicted == labels).sum().item()\n",
        "\n",
        "            # Append predictions and true labels to the lists\n",
        "            test_preds.extend(predicted.cpu().numpy())\n",
        "            test_labels.extend(labels.cpu().numpy())\n",
        "\n",
        "    test_loss /= len(test_dataloader)\n",
        "    accuracy = 100. * correct / len(test_dataloader.dataset)\n",
        "\n",
        "    print(f\"Test Loss: {test_loss:.4f}, Test Accuracy: {accuracy:.2f}%\")\n",
        "    return test_loss, accuracy, test_labels, test_preds\n"
      ],
      "metadata": {
        "id": "rbVipzbNqiYg"
      },
      "execution_count": null,
      "outputs": []
    },
    {
      "cell_type": "code",
      "source": [
        "test_loss, test_accuracy, test_labels, test_preds = evaluation(mobilenet_V2, test_dataloader, criterion, device)"
      ],
      "metadata": {
        "colab": {
          "base_uri": "https://localhost:8080/"
        },
        "id": "AI2MT0xawGxl",
        "outputId": "85e65e48-9199-43aa-cc79-0a2ecd2ccbec"
      },
      "execution_count": null,
      "outputs": [
        {
          "output_type": "stream",
          "name": "stdout",
          "text": [
            "Test Loss: 0.2367, Test Accuracy: 91.64%\n"
          ]
        }
      ]
    },
    {
      "cell_type": "code",
      "source": [
        "def plot_confusion_matrix(y_true, y_pred, classes):\n",
        "    # Convert inputs to numpy arrays\n",
        "    y_true = np.array(y_true)\n",
        "    y_pred = np.array(y_pred)\n",
        "\n",
        "    # Compute confusion matrix\n",
        "    cm = confusion_matrix(y_true, y_pred)\n",
        "\n",
        "    # Normalize the confusion matrix\n",
        "    cm = cm.astype('float') / cm.sum(axis=1)[:, np.newaxis]\n",
        "\n",
        "    # Plot confusion matrix\n",
        "    plt.figure(figsize=(10, 8))\n",
        "    sns.heatmap(cm, annot=True, fmt=\".2f\", cmap=\"Blues\", xticklabels=classes, yticklabels=classes)\n",
        "    plt.title('Normalized Confusion Matrix')\n",
        "    plt.xlabel('Predicted label')\n",
        "    plt.ylabel('True label')\n",
        "    plt.show()"
      ],
      "metadata": {
        "id": "s9tbggB9sxYx"
      },
      "execution_count": null,
      "outputs": []
    },
    {
      "cell_type": "code",
      "source": [
        "# plot_confusion_matrix(labels, preds, class_names)\n",
        "plot_confusion_matrix(test_labels, test_preds, class_names)"
      ],
      "metadata": {
        "colab": {
          "base_uri": "https://localhost:8080/",
          "height": 593
        },
        "id": "ojBntzzxcdQ_",
        "outputId": "e93e5ade-00ec-4410-918b-2cc2a98460f2"
      },
      "execution_count": null,
      "outputs": [
        {
          "output_type": "display_data",
          "data": {
            "text/plain": [
              "<Figure size 1000x800 with 2 Axes>"
            ],
            "image/png": "[encoded data removed]"
          },
          "metadata": {}
        }
      ]
    }
  ],
  "metadata": {
    "colab": {
      "provenance": [],
      "machine_shape": "hm"
    },
    "kernelspec": {
      "display_name": "Python 3",
      "name": "python3"
    },
    "language_info": {
      "name": "python"
    }
  },
  "nbformat": 4,
  "nbformat_minor": 0
}